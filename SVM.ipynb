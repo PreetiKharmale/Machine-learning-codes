{
  "cells": [
    {
      "cell_type": "markdown",
      "metadata": {
        "id": "aox9am2ebYym"
      },
      "source": [
        "\n",
        "**# SVM **"
      ]
    },
    {
      "cell_type": "code",
      "execution_count": null,
      "metadata": {
        "id": "kKMlMkfH3bGg"
      },
      "outputs": [],
      "source": [
        "import pandas as pd\n",
        "import numpy as np\n",
        "from sklearn import model_selection\n",
        "from sklearn .tree import DecisionTreeClassifier\n",
        "from sklearn.metrics import accuracy_score\n",
        "from sklearn.model_selection import train_test_split"
      ]
    },
    {
      "cell_type": "code",
      "execution_count": null,
      "metadata": {
        "id": "NYPViTdx-rqU"
      },
      "outputs": [],
      "source": [
        "col_names = ['pregnant','glucose','bp','skin','insulin','bmi','pedigree','age','label']\n"
      ]
    },
    {
      "cell_type": "code",
      "execution_count": null,
      "metadata": {
        "id": "IJdfV4nm-96b"
      },
      "outputs": [],
      "source": [
        "# Load the dataset\n",
        "pima = pd.read_csv(\"/content/pima-indians-diabetes.csv\", header = None , names = col_names)"
      ]
    },
    {
      "cell_type": "code",
      "execution_count": null,
      "metadata": {
        "id": "7PWO2it7_FLe"
      },
      "outputs": [],
      "source": [
        "feature_cols = ['pregnant','insulin','bmi','pedigree','age','glucose','bp']\n"
      ]
    },
    {
      "cell_type": "code",
      "execution_count": null,
      "metadata": {
        "id": "GubOzpsM_CNU"
      },
      "outputs": [],
      "source": [
        "X = pima[feature_cols]  # Features\n",
        "Y = pima.label             # Target Variable"
      ]
    },
    {
      "cell_type": "code",
      "execution_count": null,
      "metadata": {
        "colab": {
          "base_uri": "https://localhost:8080/"
        },
        "id": "i8rX00p8_e8w",
        "outputId": "6fdf014b-579b-41fe-a6cd-a4617664d70d"
      },
      "outputs": [
        {
          "data": {
            "text/plain": [
              "array([0.74675325, 0.67532468, 0.66883117, 0.79738562, 0.76470588])"
            ]
          },
          "execution_count": 14,
          "metadata": {},
          "output_type": "execute_result"
        }
      ],
      "source": [
        "regressor = DecisionTreeClassifier()\n",
        "x_train,x_test,y_train,y_test = train_test_split(X,Y,test_size=0.25,random_state = 0)\n",
        "regressor.fit(x_train,y_train)                    # training of classifier\n",
        "\n",
        "from sklearn.model_selection import cross_val_score\n",
        "accuracies = cross_val_score(estimator = regressor, X=X, y=Y, cv=5)\n",
        "accuracies"
      ]
    },
    {
      "cell_type": "code",
      "execution_count": null,
      "metadata": {
        "colab": {
          "base_uri": "https://localhost:8080/"
        },
        "id": "fJ4UoXRL_95H",
        "outputId": "5592ff18-db8c-4d49-f186-001d7191002d"
      },
      "outputs": [
        {
          "data": {
            "text/plain": [
              "0.7306001188354129"
            ]
          },
          "execution_count": 15,
          "metadata": {},
          "output_type": "execute_result"
        }
      ],
      "source": [
        "accuracies.mean()"
      ]
    },
    {
      "cell_type": "code",
      "execution_count": null,
      "metadata": {
        "id": "8TJDe1u0ABFE"
      },
      "outputs": [],
      "source": [
        "from sklearn.svm import SVC"
      ]
    },
    {
      "cell_type": "code",
      "execution_count": null,
      "metadata": {
        "id": "XxViM_M_AE4Y"
      },
      "outputs": [],
      "source": [
        "svm = SVC(kernel = 'poly')"
      ]
    },
    {
      "cell_type": "code",
      "execution_count": null,
      "metadata": {
        "id": "2LHcpCbvAFMA"
      },
      "outputs": [],
      "source": [
        "model = svm.fit(x_train,y_train)"
      ]
    },
    {
      "cell_type": "code",
      "execution_count": null,
      "metadata": {
        "colab": {
          "base_uri": "https://localhost:8080/"
        },
        "id": "TIVwvWi6AFPk",
        "outputId": "83be11ee-b876-4942-e35d-f9643cadcda0"
      },
      "outputs": [
        {
          "data": {
            "text/plain": [
              "array([0.77272727, 0.75974026, 0.75974026, 0.78431373, 0.75163399])"
            ]
          },
          "execution_count": 19,
          "metadata": {},
          "output_type": "execute_result"
        }
      ],
      "source": [
        "from sklearn.model_selection import cross_val_score\n",
        "accuracies = cross_val_score(estimator = model, X=X , y=Y, cv=5)\n",
        "accuracies"
      ]
    },
    {
      "cell_type": "code",
      "execution_count": null,
      "metadata": {
        "colab": {
          "base_uri": "https://localhost:8080/"
        },
        "id": "6NboWGt3AiqX",
        "outputId": "eb2807c9-f429-4084-f536-a33112f834d4"
      },
      "outputs": [
        {
          "data": {
            "text/plain": [
              "0.7656311009252186"
            ]
          },
          "execution_count": 20,
          "metadata": {},
          "output_type": "execute_result"
        }
      ],
      "source": [
        "accuracies.mean()"
      ]
    },
    {
      "cell_type": "code",
      "execution_count": null,
      "metadata": {
        "colab": {
          "base_uri": "https://localhost:8080/"
        },
        "id": "vXb-SiISByR4",
        "outputId": "58103223-077a-47f2-caf6-81017dfae03a"
      },
      "outputs": [
        {
          "data": {
            "text/plain": [
              "array([0.875     , 0.6875    , 0.6875    , 0.75      , 0.75      ,\n",
              "       0.6875    , 0.875     , 0.6875    , 0.8125    , 0.6875    ,\n",
              "       0.8125    , 0.75      , 0.8125    , 0.5       , 0.9375    ,\n",
              "       0.875     , 0.625     , 0.75      , 0.53333333, 0.73333333,\n",
              "       0.66666667, 0.73333333, 0.73333333, 0.8       , 0.8       ,\n",
              "       0.86666667, 0.8       , 0.8       , 0.73333333, 0.8       ,\n",
              "       0.6       , 0.73333333, 0.8       , 0.8       , 0.66666667,\n",
              "       0.73333333, 0.86666667, 0.8       , 1.        , 0.66666667,\n",
              "       0.73333333, 0.86666667, 0.66666667, 0.66666667, 0.8       ,\n",
              "       0.8       , 0.6       , 0.73333333, 0.8       , 0.8       ])"
            ]
          },
          "execution_count": 22,
          "metadata": {},
          "output_type": "execute_result"
        }
      ],
      "source": [
        "accuracies = cross_val_score(estimator = model, X=X , y=Y, cv=50)\n",
        "accuracies\n"
      ]
    },
    {
      "cell_type": "code",
      "execution_count": null,
      "metadata": {
        "colab": {
          "base_uri": "https://localhost:8080/"
        },
        "id": "A7SM1WAtBych",
        "outputId": "b98daa63-42ae-4665-9e0a-61b8542b23df"
      },
      "outputs": [
        {
          "data": {
            "text/plain": [
              "0.7539166666666666"
            ]
          },
          "execution_count": 23,
          "metadata": {},
          "output_type": "execute_result"
        }
      ],
      "source": [
        "accuracies.mean()"
      ]
    }
  ],
  "metadata": {
    "colab": {
      "provenance": []
    },
    "kernelspec": {
      "display_name": "Python 3",
      "name": "python3"
    },
    "language_info": {
      "name": "python"
    }
  },
  "nbformat": 4,
  "nbformat_minor": 0
}

{
  "cells": [
    {
      "cell_type": "markdown",
      "id": "2F7A4qZ2gwsC",
      "metadata": {
        "id": "2F7A4qZ2gwsC"
      },
      "source": [
        "\n",
        "# Feature Engineering"
      ]
    },
    {
      "cell_type": "code",
      "execution_count": null,
      "id": "f888b298",
      "metadata": {
        "id": "f888b298"
      },
      "outputs": [],
      "source": [
        "import numpy as np\n",
        "import pandas as pd\n"
      ]
    },
    {
      "cell_type": "code",
      "execution_count": null,
      "id": "59bc71e9",
      "metadata": {
        "id": "59bc71e9"
      },
      "outputs": [],
      "source": [
        "df=pd.read_csv(\"Lung Capacity.xlsx - Sheet1.csv\")"
      ]
    },
    {
      "cell_type": "code",
      "execution_count": null,
      "id": "29e83983",
      "metadata": {
        "id": "29e83983",
        "outputId": "6fe22ffe-77ce-4584-b63d-c3fb87771614"
      },
      "outputs": [
        {
          "data": {
            "text/html": [
              "<div>\n",
              "<style scoped>\n",
              "    .dataframe tbody tr th:only-of-type {\n",
              "        vertical-align: middle;\n",
              "    }\n",
              "\n",
              "    .dataframe tbody tr th {\n",
              "        vertical-align: top;\n",
              "    }\n",
              "\n",
              "    .dataframe thead th {\n",
              "        text-align: right;\n",
              "    }\n",
              "</style>\n",
              "<table border=\"1\" class=\"dataframe\">\n",
              "  <thead>\n",
              "    <tr style=\"text-align: right;\">\n",
              "      <th></th>\n",
              "      <th>LungCap(cc)</th>\n",
              "      <th>Age( years)</th>\n",
              "      <th>Height(inches)</th>\n",
              "      <th>Smoke</th>\n",
              "      <th>Gender</th>\n",
              "      <th>Risk</th>\n",
              "    </tr>\n",
              "  </thead>\n",
              "  <tbody>\n",
              "    <tr>\n",
              "      <th>0</th>\n",
              "      <td>6.475</td>\n",
              "      <td>6</td>\n",
              "      <td>62.1</td>\n",
              "      <td>no</td>\n",
              "      <td>male</td>\n",
              "      <td>0</td>\n",
              "    </tr>\n",
              "    <tr>\n",
              "      <th>1</th>\n",
              "      <td>10.125</td>\n",
              "      <td>18</td>\n",
              "      <td>74.7</td>\n",
              "      <td>yes</td>\n",
              "      <td>female</td>\n",
              "      <td>0</td>\n",
              "    </tr>\n",
              "    <tr>\n",
              "      <th>2</th>\n",
              "      <td>9.550</td>\n",
              "      <td>16</td>\n",
              "      <td>69.7</td>\n",
              "      <td>no</td>\n",
              "      <td>female</td>\n",
              "      <td>1</td>\n",
              "    </tr>\n",
              "    <tr>\n",
              "      <th>3</th>\n",
              "      <td>11.125</td>\n",
              "      <td>14</td>\n",
              "      <td>71.0</td>\n",
              "      <td>no</td>\n",
              "      <td>male</td>\n",
              "      <td>0</td>\n",
              "    </tr>\n",
              "    <tr>\n",
              "      <th>4</th>\n",
              "      <td>4.800</td>\n",
              "      <td>5</td>\n",
              "      <td>56.9</td>\n",
              "      <td>no</td>\n",
              "      <td>male</td>\n",
              "      <td>0</td>\n",
              "    </tr>\n",
              "    <tr>\n",
              "      <th>...</th>\n",
              "      <td>...</td>\n",
              "      <td>...</td>\n",
              "      <td>...</td>\n",
              "      <td>...</td>\n",
              "      <td>...</td>\n",
              "      <td>...</td>\n",
              "    </tr>\n",
              "    <tr>\n",
              "      <th>720</th>\n",
              "      <td>5.725</td>\n",
              "      <td>9</td>\n",
              "      <td>56.0</td>\n",
              "      <td>no</td>\n",
              "      <td>female</td>\n",
              "      <td>0</td>\n",
              "    </tr>\n",
              "    <tr>\n",
              "      <th>721</th>\n",
              "      <td>9.050</td>\n",
              "      <td>18</td>\n",
              "      <td>72.0</td>\n",
              "      <td>yes</td>\n",
              "      <td>male</td>\n",
              "      <td>1</td>\n",
              "    </tr>\n",
              "    <tr>\n",
              "      <th>722</th>\n",
              "      <td>3.850</td>\n",
              "      <td>11</td>\n",
              "      <td>60.5</td>\n",
              "      <td>yes</td>\n",
              "      <td>female</td>\n",
              "      <td>0</td>\n",
              "    </tr>\n",
              "    <tr>\n",
              "      <th>723</th>\n",
              "      <td>9.825</td>\n",
              "      <td>15</td>\n",
              "      <td>64.9</td>\n",
              "      <td>no</td>\n",
              "      <td>female</td>\n",
              "      <td>0</td>\n",
              "    </tr>\n",
              "    <tr>\n",
              "      <th>724</th>\n",
              "      <td>7.100</td>\n",
              "      <td>10</td>\n",
              "      <td>67.7</td>\n",
              "      <td>no</td>\n",
              "      <td>male</td>\n",
              "      <td>0</td>\n",
              "    </tr>\n",
              "  </tbody>\n",
              "</table>\n",
              "<p>725 rows × 6 columns</p>\n",
              "</div>"
            ],
            "text/plain": [
              "     LungCap(cc)  Age( years)  Height(inches) Smoke  Gender  Risk\n",
              "0          6.475            6            62.1    no    male     0\n",
              "1         10.125           18            74.7   yes  female     0\n",
              "2          9.550           16            69.7    no  female     1\n",
              "3         11.125           14            71.0    no    male     0\n",
              "4          4.800            5            56.9    no    male     0\n",
              "..           ...          ...             ...   ...     ...   ...\n",
              "720        5.725            9            56.0    no  female     0\n",
              "721        9.050           18            72.0   yes    male     1\n",
              "722        3.850           11            60.5   yes  female     0\n",
              "723        9.825           15            64.9    no  female     0\n",
              "724        7.100           10            67.7    no    male     0\n",
              "\n",
              "[725 rows x 6 columns]"
            ]
          },
          "execution_count": 3,
          "metadata": {},
          "output_type": "execute_result"
        }
      ],
      "source": [
        "df"
      ]
    },
    {
      "cell_type": "code",
      "execution_count": null,
      "id": "0e800151",
      "metadata": {
        "id": "0e800151",
        "outputId": "5de14620-6d27-477f-a4e2-9459767c36c7"
      },
      "outputs": [
        {
          "data": {
            "text/plain": [
              "(725, 6)"
            ]
          },
          "execution_count": 4,
          "metadata": {},
          "output_type": "execute_result"
        }
      ],
      "source": [
        "df.shape"
      ]
    },
    {
      "cell_type": "code",
      "execution_count": null,
      "id": "0785e2db",
      "metadata": {
        "id": "0785e2db",
        "outputId": "b114d917-d2ff-4b6b-abc1-482aed9cbfa4"
      },
      "outputs": [
        {
          "data": {
            "text/plain": [
              "4350"
            ]
          },
          "execution_count": 5,
          "metadata": {},
          "output_type": "execute_result"
        }
      ],
      "source": [
        "df.size"
      ]
    },
    {
      "cell_type": "code",
      "execution_count": null,
      "id": "0089660e",
      "metadata": {
        "id": "0089660e",
        "outputId": "603a5d8e-6f6c-463b-88e3-7c550eba7158"
      },
      "outputs": [
        {
          "data": {
            "text/plain": [
              "Index(['LungCap(cc)', 'Age( years)', 'Height(inches)', 'Smoke', 'Gender',\n",
              "       'Risk'],\n",
              "      dtype='object')"
            ]
          },
          "execution_count": 6,
          "metadata": {},
          "output_type": "execute_result"
        }
      ],
      "source": [
        "df.columns"
      ]
    },
    {
      "cell_type": "code",
      "execution_count": null,
      "id": "cd017ce3",
      "metadata": {
        "id": "cd017ce3",
        "outputId": "e88c9e83-b0d4-419e-d1a6-825f47401f79"
      },
      "outputs": [
        {
          "data": {
            "text/plain": [
              "LungCap(cc)       float64\n",
              "Age( years)         int64\n",
              "Height(inches)    float64\n",
              "Smoke              object\n",
              "Gender             object\n",
              "Risk                int64\n",
              "dtype: object"
            ]
          },
          "execution_count": 7,
          "metadata": {},
          "output_type": "execute_result"
        }
      ],
      "source": [
        "df.dtypes"
      ]
    },
    {
      "cell_type": "code",
      "execution_count": null,
      "id": "cb9fc4fc",
      "metadata": {
        "id": "cb9fc4fc"
      },
      "outputs": [],
      "source": [
        "df_enc=pd.get_dummies(df,columns=['Gender','Smoke'])"
      ]
    },
    {
      "cell_type": "code",
      "execution_count": null,
      "id": "8469961a",
      "metadata": {
        "id": "8469961a"
      },
      "outputs": [],
      "source": [
        "df['Smoke']=df['Smoke'].replace({'yes' :1,'no':0})"
      ]
    },
    {
      "cell_type": "code",
      "execution_count": null,
      "id": "134cb411",
      "metadata": {
        "id": "134cb411",
        "outputId": "8531aab6-9ed1-4a5a-f8a6-4391b90a5050"
      },
      "outputs": [
        {
          "data": {
            "text/html": [
              "<div>\n",
              "<style scoped>\n",
              "    .dataframe tbody tr th:only-of-type {\n",
              "        vertical-align: middle;\n",
              "    }\n",
              "\n",
              "    .dataframe tbody tr th {\n",
              "        vertical-align: top;\n",
              "    }\n",
              "\n",
              "    .dataframe thead th {\n",
              "        text-align: right;\n",
              "    }\n",
              "</style>\n",
              "<table border=\"1\" class=\"dataframe\">\n",
              "  <thead>\n",
              "    <tr style=\"text-align: right;\">\n",
              "      <th></th>\n",
              "      <th>LungCap(cc)</th>\n",
              "      <th>Age( years)</th>\n",
              "      <th>Height(inches)</th>\n",
              "      <th>Smoke</th>\n",
              "      <th>Gender</th>\n",
              "      <th>Risk</th>\n",
              "    </tr>\n",
              "  </thead>\n",
              "  <tbody>\n",
              "    <tr>\n",
              "      <th>0</th>\n",
              "      <td>6.475</td>\n",
              "      <td>6</td>\n",
              "      <td>62.1</td>\n",
              "      <td>0</td>\n",
              "      <td>1</td>\n",
              "      <td>0</td>\n",
              "    </tr>\n",
              "    <tr>\n",
              "      <th>1</th>\n",
              "      <td>10.125</td>\n",
              "      <td>18</td>\n",
              "      <td>74.7</td>\n",
              "      <td>1</td>\n",
              "      <td>0</td>\n",
              "      <td>0</td>\n",
              "    </tr>\n",
              "    <tr>\n",
              "      <th>2</th>\n",
              "      <td>9.550</td>\n",
              "      <td>16</td>\n",
              "      <td>69.7</td>\n",
              "      <td>0</td>\n",
              "      <td>0</td>\n",
              "      <td>1</td>\n",
              "    </tr>\n",
              "    <tr>\n",
              "      <th>3</th>\n",
              "      <td>11.125</td>\n",
              "      <td>14</td>\n",
              "      <td>71.0</td>\n",
              "      <td>0</td>\n",
              "      <td>1</td>\n",
              "      <td>0</td>\n",
              "    </tr>\n",
              "    <tr>\n",
              "      <th>4</th>\n",
              "      <td>4.800</td>\n",
              "      <td>5</td>\n",
              "      <td>56.9</td>\n",
              "      <td>0</td>\n",
              "      <td>1</td>\n",
              "      <td>0</td>\n",
              "    </tr>\n",
              "    <tr>\n",
              "      <th>...</th>\n",
              "      <td>...</td>\n",
              "      <td>...</td>\n",
              "      <td>...</td>\n",
              "      <td>...</td>\n",
              "      <td>...</td>\n",
              "      <td>...</td>\n",
              "    </tr>\n",
              "    <tr>\n",
              "      <th>720</th>\n",
              "      <td>5.725</td>\n",
              "      <td>9</td>\n",
              "      <td>56.0</td>\n",
              "      <td>0</td>\n",
              "      <td>0</td>\n",
              "      <td>0</td>\n",
              "    </tr>\n",
              "    <tr>\n",
              "      <th>721</th>\n",
              "      <td>9.050</td>\n",
              "      <td>18</td>\n",
              "      <td>72.0</td>\n",
              "      <td>1</td>\n",
              "      <td>1</td>\n",
              "      <td>1</td>\n",
              "    </tr>\n",
              "    <tr>\n",
              "      <th>722</th>\n",
              "      <td>3.850</td>\n",
              "      <td>11</td>\n",
              "      <td>60.5</td>\n",
              "      <td>1</td>\n",
              "      <td>0</td>\n",
              "      <td>0</td>\n",
              "    </tr>\n",
              "    <tr>\n",
              "      <th>723</th>\n",
              "      <td>9.825</td>\n",
              "      <td>15</td>\n",
              "      <td>64.9</td>\n",
              "      <td>0</td>\n",
              "      <td>0</td>\n",
              "      <td>0</td>\n",
              "    </tr>\n",
              "    <tr>\n",
              "      <th>724</th>\n",
              "      <td>7.100</td>\n",
              "      <td>10</td>\n",
              "      <td>67.7</td>\n",
              "      <td>0</td>\n",
              "      <td>1</td>\n",
              "      <td>0</td>\n",
              "    </tr>\n",
              "  </tbody>\n",
              "</table>\n",
              "<p>725 rows × 6 columns</p>\n",
              "</div>"
            ],
            "text/plain": [
              "     LungCap(cc)  Age( years)  Height(inches)  Smoke  Gender  Risk\n",
              "0          6.475            6            62.1      0       1     0\n",
              "1         10.125           18            74.7      1       0     0\n",
              "2          9.550           16            69.7      0       0     1\n",
              "3         11.125           14            71.0      0       1     0\n",
              "4          4.800            5            56.9      0       1     0\n",
              "..           ...          ...             ...    ...     ...   ...\n",
              "720        5.725            9            56.0      0       0     0\n",
              "721        9.050           18            72.0      1       1     1\n",
              "722        3.850           11            60.5      1       0     0\n",
              "723        9.825           15            64.9      0       0     0\n",
              "724        7.100           10            67.7      0       1     0\n",
              "\n",
              "[725 rows x 6 columns]"
            ]
          },
          "execution_count": 10,
          "metadata": {},
          "output_type": "execute_result"
        }
      ],
      "source": [
        "df['Gender']=df['Gender'].replace({'male' :1,'female':0})\n",
        "df"
      ]
    },
    {
      "cell_type": "code",
      "execution_count": null,
      "id": "d5bdd99f",
      "metadata": {
        "id": "d5bdd99f",
        "outputId": "85639f88-028c-475c-df5c-36ab39c0f8c6"
      },
      "outputs": [
        {
          "data": {
            "text/html": [
              "<div>\n",
              "<style scoped>\n",
              "    .dataframe tbody tr th:only-of-type {\n",
              "        vertical-align: middle;\n",
              "    }\n",
              "\n",
              "    .dataframe tbody tr th {\n",
              "        vertical-align: top;\n",
              "    }\n",
              "\n",
              "    .dataframe thead th {\n",
              "        text-align: right;\n",
              "    }\n",
              "</style>\n",
              "<table border=\"1\" class=\"dataframe\">\n",
              "  <thead>\n",
              "    <tr style=\"text-align: right;\">\n",
              "      <th></th>\n",
              "      <th>LungCap(cc)</th>\n",
              "      <th>Age( years)</th>\n",
              "      <th>Height(inches)</th>\n",
              "      <th>Smoke_1</th>\n",
              "      <th>Gender_1</th>\n",
              "    </tr>\n",
              "  </thead>\n",
              "  <tbody>\n",
              "    <tr>\n",
              "      <th>0</th>\n",
              "      <td>6.475</td>\n",
              "      <td>6</td>\n",
              "      <td>62.1</td>\n",
              "      <td>False</td>\n",
              "      <td>True</td>\n",
              "    </tr>\n",
              "    <tr>\n",
              "      <th>1</th>\n",
              "      <td>10.125</td>\n",
              "      <td>18</td>\n",
              "      <td>74.7</td>\n",
              "      <td>True</td>\n",
              "      <td>False</td>\n",
              "    </tr>\n",
              "    <tr>\n",
              "      <th>2</th>\n",
              "      <td>9.550</td>\n",
              "      <td>16</td>\n",
              "      <td>69.7</td>\n",
              "      <td>False</td>\n",
              "      <td>False</td>\n",
              "    </tr>\n",
              "    <tr>\n",
              "      <th>3</th>\n",
              "      <td>11.125</td>\n",
              "      <td>14</td>\n",
              "      <td>71.0</td>\n",
              "      <td>False</td>\n",
              "      <td>True</td>\n",
              "    </tr>\n",
              "    <tr>\n",
              "      <th>4</th>\n",
              "      <td>4.800</td>\n",
              "      <td>5</td>\n",
              "      <td>56.9</td>\n",
              "      <td>False</td>\n",
              "      <td>True</td>\n",
              "    </tr>\n",
              "    <tr>\n",
              "      <th>...</th>\n",
              "      <td>...</td>\n",
              "      <td>...</td>\n",
              "      <td>...</td>\n",
              "      <td>...</td>\n",
              "      <td>...</td>\n",
              "    </tr>\n",
              "    <tr>\n",
              "      <th>720</th>\n",
              "      <td>5.725</td>\n",
              "      <td>9</td>\n",
              "      <td>56.0</td>\n",
              "      <td>False</td>\n",
              "      <td>False</td>\n",
              "    </tr>\n",
              "    <tr>\n",
              "      <th>721</th>\n",
              "      <td>9.050</td>\n",
              "      <td>18</td>\n",
              "      <td>72.0</td>\n",
              "      <td>True</td>\n",
              "      <td>True</td>\n",
              "    </tr>\n",
              "    <tr>\n",
              "      <th>722</th>\n",
              "      <td>3.850</td>\n",
              "      <td>11</td>\n",
              "      <td>60.5</td>\n",
              "      <td>True</td>\n",
              "      <td>False</td>\n",
              "    </tr>\n",
              "    <tr>\n",
              "      <th>723</th>\n",
              "      <td>9.825</td>\n",
              "      <td>15</td>\n",
              "      <td>64.9</td>\n",
              "      <td>False</td>\n",
              "      <td>False</td>\n",
              "    </tr>\n",
              "    <tr>\n",
              "      <th>724</th>\n",
              "      <td>7.100</td>\n",
              "      <td>10</td>\n",
              "      <td>67.7</td>\n",
              "      <td>False</td>\n",
              "      <td>True</td>\n",
              "    </tr>\n",
              "  </tbody>\n",
              "</table>\n",
              "<p>725 rows × 5 columns</p>\n",
              "</div>"
            ],
            "text/plain": [
              "     LungCap(cc)  Age( years)  Height(inches)  Smoke_1  Gender_1\n",
              "0          6.475            6            62.1    False      True\n",
              "1         10.125           18            74.7     True     False\n",
              "2          9.550           16            69.7    False     False\n",
              "3         11.125           14            71.0    False      True\n",
              "4          4.800            5            56.9    False      True\n",
              "..           ...          ...             ...      ...       ...\n",
              "720        5.725            9            56.0    False     False\n",
              "721        9.050           18            72.0     True      True\n",
              "722        3.850           11            60.5     True     False\n",
              "723        9.825           15            64.9    False     False\n",
              "724        7.100           10            67.7    False      True\n",
              "\n",
              "[725 rows x 5 columns]"
            ]
          },
          "execution_count": 11,
          "metadata": {},
          "output_type": "execute_result"
        }
      ],
      "source": [
        "num_features=['LungCap(cc)\t','Age( years)\t','Height(inches)\t']\n",
        "cat_features=['Smoke','Gender']\n",
        "dummy=pd.get_dummies(df,columns=cat_features,drop_first=True)\n",
        "dummy.shape\n",
        "Y=dummy[['Risk']]\n",
        "X=dummy.drop(columns=['Risk'])\n",
        "X"
      ]
    },
    {
      "cell_type": "code",
      "execution_count": null,
      "id": "fa212458",
      "metadata": {
        "id": "fa212458",
        "outputId": "9214d87a-b0dd-4503-f356-bf09595e4753"
      },
      "outputs": [
        {
          "data": {
            "image/png": "[encoded data removed]",
            "text/plain": [
              "<Figure size 2000x2000 with 2 Axes>"
            ]
          },
          "metadata": {},
          "output_type": "display_data"
        }
      ],
      "source": [
        "import seaborn as sns\n",
        "import matplotlib.pyplot as plt\n",
        "corrmat=dummy.corr()\n",
        "top_corr_features=corrmat.index\n",
        "plt.figure(figsize=(20,20))\n",
        "g=sns.heatmap(dummy[top_corr_features].corr(),annot=True,cmap=\"RdYlGn\")"
      ]
    },
    {
      "cell_type": "code",
      "execution_count": null,
      "id": "31a1d5c9",
      "metadata": {
        "id": "31a1d5c9",
        "outputId": "1636987b-f629-4b34-91a4-79a87934b5a7"
      },
      "outputs": [
        {
          "name": "stderr",
          "output_type": "stream",
          "text": [
            "C:\\Users\\shrey\\AppData\\Roaming\\Python\\Python311\\site-packages\\sklearn\\base.py:1151: DataConversionWarning: A column-vector y was passed when a 1d array was expected. Please change the shape of y to (n_samples,), for example using ravel().\n",
            "  return fit_method(estimator, *args, **kwargs)\n"
          ]
        },
        {
          "data": {
            "image/png": "[encoded data removed]",
            "text/plain": [
              "<Figure size 640x480 with 1 Axes>"
            ]
          },
          "metadata": {},
          "output_type": "display_data"
        }
      ],
      "source": [
        "from sklearn.ensemble import ExtraTreesClassifier\n",
        "model=ExtraTreesClassifier()\n",
        "model.fit(X,Y)\n",
        "model.feature_importances_\n",
        "ranked_features=pd.Series(model.feature_importances_,index=X.columns)\n",
        "ranked_features.nlargest(10).plot(kind='barh')\n",
        "plt.show()"
      ]
    },
    {
      "cell_type": "code",
      "execution_count": null,
      "id": "2d4327e2",
      "metadata": {
        "id": "2d4327e2",
        "outputId": "ebe749ba-a6b1-447c-bdd0-0ed60f5dd2e0"
      },
      "outputs": [
        {
          "name": "stdout",
          "output_type": "stream",
          "text": [
            "[ True  True  True False False]\n",
            "[1 1 1 2 2]\n"
          ]
        },
        {
          "data": {
            "text/plain": [
              "Index(['LungCap(cc)', 'Age( years)', 'Height(inches)', 'Smoke_1', 'Gender_1'], dtype='object')"
            ]
          },
          "execution_count": 14,
          "metadata": {},
          "output_type": "execute_result"
        }
      ],
      "source": [
        "from sklearn.tree import DecisionTreeClassifier\n",
        "from sklearn.feature_selection import RFE\n",
        "regressor=DecisionTreeClassifier()\n",
        "regressor.fit(X,Y)\n",
        "selector=RFE(regressor,n_features_to_select=3,step=3)\n",
        "selector.fit(X,Y)\n",
        "print(selector.support_)\n",
        "print(selector.ranking_)\n",
        "X.columns"
      ]
    },
    {
      "cell_type": "code",
      "execution_count": null,
      "id": "f7eb73c2",
      "metadata": {
        "id": "f7eb73c2",
        "outputId": "7b2bb5a7-9cb9-422a-da07-95059f599d87"
      },
      "outputs": [
        {
          "name": "stdout",
          "output_type": "stream",
          "text": [
            "the optimal number of features :  5\n",
            "best features :  Index(['LungCap(cc)', 'Age( years)', 'Height(inches)', 'Smoke_1', 'Gender_1'], dtype='object')\n"
          ]
        }
      ],
      "source": [
        "from sklearn.tree import DecisionTreeClassifier\n",
        "from sklearn.feature_selection import RFECV\n",
        "model=DecisionTreeClassifier()\n",
        "selector=RFECV(estimator=model,step=1,cv=5,scoring=\"recall\")\n",
        "selector=selector.fit(X,Y)\n",
        "print(\"the optimal number of features : \",selector.n_features_)\n",
        "print(\"best features : \",X.columns[selector.support_])\n"
      ]
    },
    {
      "cell_type": "code",
      "execution_count": null,
      "id": "e567d260",
      "metadata": {
        "id": "e567d260",
        "outputId": "b1b79482-5a89-44e5-eee1-33e53ea3ed9e"
      },
      "outputs": [
        {
          "name": "stderr",
          "output_type": "stream",
          "text": [
            "C:\\Users\\shrey\\AppData\\Roaming\\Python\\Python311\\site-packages\\sklearn\\neighbors\\_classification.py:228: DataConversionWarning: A column-vector y was passed when a 1d array was expected. Please change the shape of y to (n_samples,), for example using ravel().\n",
            "  return self._fit(X, y)\n"
          ]
        },
        {
          "name": "stdout",
          "output_type": "stream",
          "text": [
            "feature 0, Score 0.04359\n",
            "feature 1, Score 0.07834\n",
            "feature 2, Score 0.08910\n",
            "feature 3, Score 0.00193\n",
            "feature 4, Score 0.00359\n"
          ]
        },
        {
          "data": {
            "image/png": "[encoded data removed]",
            "text/plain": [
              "<Figure size 640x480 with 1 Axes>"
            ]
          },
          "metadata": {},
          "output_type": "display_data"
        }
      ],
      "source": [
        "from sklearn.datasets import make_classification\n",
        "from sklearn.neighbors import KNeighborsClassifier\n",
        "from sklearn.inspection import permutation_importance\n",
        "from matplotlib import pyplot\n",
        "\n",
        "model=KNeighborsClassifier()\n",
        "model.fit(X,Y)\n",
        "results=permutation_importance(model,X,Y,scoring='accuracy')\n",
        "importance=results.importances_mean\n",
        "for i,v in enumerate(importance):\n",
        "    print('feature %0d, Score %.5f' % (i,v))\n",
        "pyplot.bar([x for x in range(len(importance))],importance)\n",
        "pyplot.show()"
      ]
    },
    {
      "cell_type": "code",
      "execution_count": null,
      "id": "294dc51e",
      "metadata": {
        "id": "294dc51e",
        "outputId": "ce44cb3e-7e44-4c77-cf50-5afbf872ccde"
      },
      "outputs": [
        {
          "name": "stdout",
          "output_type": "stream",
          "text": [
            "[[ 6.  62.1]\n",
            " [18.  74.7]\n",
            " [16.  69.7]\n",
            " ...\n",
            " [11.  60.5]\n",
            " [15.  64.9]\n",
            " [10.  67.7]]\n",
            "     LungCap(cc)  Age( years)  Height(inches)  Smoke_1  Gender_1\n",
            "0          6.475            6            62.1    False      True\n",
            "1         10.125           18            74.7     True     False\n",
            "2          9.550           16            69.7    False     False\n",
            "3         11.125           14            71.0    False      True\n",
            "4          4.800            5            56.9    False      True\n",
            "..           ...          ...             ...      ...       ...\n",
            "720        5.725            9            56.0    False     False\n",
            "721        9.050           18            72.0     True      True\n",
            "722        3.850           11            60.5     True     False\n",
            "723        9.825           15            64.9    False     False\n",
            "724        7.100           10            67.7    False      True\n",
            "\n",
            "[725 rows x 5 columns]\n"
          ]
        }
      ],
      "source": [
        "from sklearn.feature_selection import SelectKBest,chi2\n",
        "X_new=SelectKBest(chi2,k=2).fit_transform(X,Y)\n",
        "print(X_new)\n",
        "print(X)"
      ]
    },
    {
      "cell_type": "code",
      "execution_count": null,
      "id": "09a25051",
      "metadata": {
        "id": "09a25051"
      },
      "outputs": [],
      "source": [
        "from sklearn.preprocessing import MinMaxScaler\n",
        "from sklearn.preprocessing import StandardScaler\n",
        "from sklearn.preprocessing import Normalizer"
      ]
    },
    {
      "cell_type": "code",
      "execution_count": null,
      "id": "d18034ab",
      "metadata": {
        "id": "d18034ab"
      },
      "outputs": [],
      "source": [
        "scaler1=MinMaxScaler()\n",
        "scaler2=StandardScaler()\n",
        "scaler3=Normalizer()\n",
        "X_mm=scaler1.fit_transform(X)\n",
        "X_ss=scaler2.fit_transform(X)\n",
        "X_n=scaler3.fit_transform(X)\n"
      ]
    },
    {
      "cell_type": "code",
      "execution_count": null,
      "id": "54ab008c",
      "metadata": {
        "id": "54ab008c"
      },
      "outputs": [],
      "source": [
        "X1=pd.DataFrame(X_mm,columns=X.columns)\n",
        "X2=pd.DataFrame(X_ss,columns=X.columns)\n",
        "X3=pd.DataFrame(X_n,columns=X.columns)"
      ]
    },
    {
      "cell_type": "code",
      "execution_count": null,
      "id": "474b122c",
      "metadata": {
        "id": "474b122c",
        "outputId": "2d19e60a-cdd4-44f1-dc5a-1e80877b5837"
      },
      "outputs": [
        {
          "data": {
            "text/html": [
              "<div>\n",
              "<style scoped>\n",
              "    .dataframe tbody tr th:only-of-type {\n",
              "        vertical-align: middle;\n",
              "    }\n",
              "\n",
              "    .dataframe tbody tr th {\n",
              "        vertical-align: top;\n",
              "    }\n",
              "\n",
              "    .dataframe thead th {\n",
              "        text-align: right;\n",
              "    }\n",
              "</style>\n",
              "<table border=\"1\" class=\"dataframe\">\n",
              "  <thead>\n",
              "    <tr style=\"text-align: right;\">\n",
              "      <th></th>\n",
              "      <th>LungCap(cc)</th>\n",
              "      <th>Age( years)</th>\n",
              "      <th>Height(inches)</th>\n",
              "      <th>Smoke_1</th>\n",
              "      <th>Gender_1</th>\n",
              "    </tr>\n",
              "  </thead>\n",
              "  <tbody>\n",
              "    <tr>\n",
              "      <th>count</th>\n",
              "      <td>725.000000</td>\n",
              "      <td>725.000000</td>\n",
              "      <td>725.000000</td>\n",
              "      <td>725.000000</td>\n",
              "      <td>725.000000</td>\n",
              "    </tr>\n",
              "    <tr>\n",
              "      <th>mean</th>\n",
              "      <td>0.519209</td>\n",
              "      <td>0.582931</td>\n",
              "      <td>0.535240</td>\n",
              "      <td>0.106207</td>\n",
              "      <td>0.506207</td>\n",
              "    </tr>\n",
              "    <tr>\n",
              "      <th>std</th>\n",
              "      <td>0.187889</td>\n",
              "      <td>0.250297</td>\n",
              "      <td>0.197319</td>\n",
              "      <td>0.308315</td>\n",
              "      <td>0.500307</td>\n",
              "    </tr>\n",
              "    <tr>\n",
              "      <th>min</th>\n",
              "      <td>0.000000</td>\n",
              "      <td>0.000000</td>\n",
              "      <td>0.000000</td>\n",
              "      <td>0.000000</td>\n",
              "      <td>0.000000</td>\n",
              "    </tr>\n",
              "    <tr>\n",
              "      <th>25%</th>\n",
              "      <td>0.398292</td>\n",
              "      <td>0.375000</td>\n",
              "      <td>0.400000</td>\n",
              "      <td>0.000000</td>\n",
              "      <td>0.000000</td>\n",
              "    </tr>\n",
              "    <tr>\n",
              "      <th>50%</th>\n",
              "      <td>0.528868</td>\n",
              "      <td>0.625000</td>\n",
              "      <td>0.550685</td>\n",
              "      <td>0.000000</td>\n",
              "      <td>1.000000</td>\n",
              "    </tr>\n",
              "    <tr>\n",
              "      <th>75%</th>\n",
              "      <td>0.655915</td>\n",
              "      <td>0.750000</td>\n",
              "      <td>0.684932</td>\n",
              "      <td>0.000000</td>\n",
              "      <td>1.000000</td>\n",
              "    </tr>\n",
              "    <tr>\n",
              "      <th>max</th>\n",
              "      <td>1.000000</td>\n",
              "      <td>1.000000</td>\n",
              "      <td>1.000000</td>\n",
              "      <td>1.000000</td>\n",
              "      <td>1.000000</td>\n",
              "    </tr>\n",
              "  </tbody>\n",
              "</table>\n",
              "</div>"
            ],
            "text/plain": [
              "       LungCap(cc)  Age( years)  Height(inches)     Smoke_1    Gender_1\n",
              "count   725.000000   725.000000      725.000000  725.000000  725.000000\n",
              "mean      0.519209     0.582931        0.535240    0.106207    0.506207\n",
              "std       0.187889     0.250297        0.197319    0.308315    0.500307\n",
              "min       0.000000     0.000000        0.000000    0.000000    0.000000\n",
              "25%       0.398292     0.375000        0.400000    0.000000    0.000000\n",
              "50%       0.528868     0.625000        0.550685    0.000000    1.000000\n",
              "75%       0.655915     0.750000        0.684932    0.000000    1.000000\n",
              "max       1.000000     1.000000        1.000000    1.000000    1.000000"
            ]
          },
          "execution_count": 21,
          "metadata": {},
          "output_type": "execute_result"
        }
      ],
      "source": [
        "X1.describe()"
      ]
    },
    {
      "cell_type": "code",
      "execution_count": null,
      "id": "44b10d06",
      "metadata": {
        "id": "44b10d06",
        "outputId": "ac3578b2-4f7f-4005-da27-f80163e77a2c"
      },
      "outputs": [
        {
          "data": {
            "text/html": [
              "<div>\n",
              "<style scoped>\n",
              "    .dataframe tbody tr th:only-of-type {\n",
              "        vertical-align: middle;\n",
              "    }\n",
              "\n",
              "    .dataframe tbody tr th {\n",
              "        vertical-align: top;\n",
              "    }\n",
              "\n",
              "    .dataframe thead th {\n",
              "        text-align: right;\n",
              "    }\n",
              "</style>\n",
              "<table border=\"1\" class=\"dataframe\">\n",
              "  <thead>\n",
              "    <tr style=\"text-align: right;\">\n",
              "      <th></th>\n",
              "      <th>LungCap(cc)</th>\n",
              "      <th>Age( years)</th>\n",
              "      <th>Height(inches)</th>\n",
              "      <th>Smoke_1</th>\n",
              "      <th>Gender_1</th>\n",
              "    </tr>\n",
              "  </thead>\n",
              "  <tbody>\n",
              "    <tr>\n",
              "      <th>count</th>\n",
              "      <td>7.250000e+02</td>\n",
              "      <td>7.250000e+02</td>\n",
              "      <td>7.250000e+02</td>\n",
              "      <td>7.250000e+02</td>\n",
              "      <td>7.250000e+02</td>\n",
              "    </tr>\n",
              "    <tr>\n",
              "      <th>mean</th>\n",
              "      <td>5.267817e-16</td>\n",
              "      <td>-2.940177e-17</td>\n",
              "      <td>-1.046213e-15</td>\n",
              "      <td>-4.900295e-18</td>\n",
              "      <td>4.900295e-17</td>\n",
              "    </tr>\n",
              "    <tr>\n",
              "      <th>std</th>\n",
              "      <td>1.000690e+00</td>\n",
              "      <td>1.000690e+00</td>\n",
              "      <td>1.000690e+00</td>\n",
              "      <td>1.000690e+00</td>\n",
              "      <td>1.000690e+00</td>\n",
              "    </tr>\n",
              "    <tr>\n",
              "      <th>min</th>\n",
              "      <td>-2.765290e+00</td>\n",
              "      <td>-2.330567e+00</td>\n",
              "      <td>-2.714437e+00</td>\n",
              "      <td>-3.447132e-01</td>\n",
              "      <td>-1.012492e+00</td>\n",
              "    </tr>\n",
              "    <tr>\n",
              "      <th>25%</th>\n",
              "      <td>-6.439989e-01</td>\n",
              "      <td>-8.313113e-01</td>\n",
              "      <td>-6.858629e-01</td>\n",
              "      <td>-3.447132e-01</td>\n",
              "      <td>-1.012492e+00</td>\n",
              "    </tr>\n",
              "    <tr>\n",
              "      <th>50%</th>\n",
              "      <td>5.144495e-02</td>\n",
              "      <td>1.681923e-01</td>\n",
              "      <td>7.832575e-02</td>\n",
              "      <td>-3.447132e-01</td>\n",
              "      <td>9.876623e-01</td>\n",
              "    </tr>\n",
              "    <tr>\n",
              "      <th>75%</th>\n",
              "      <td>7.280930e-01</td>\n",
              "      <td>6.679441e-01</td>\n",
              "      <td>7.591484e-01</td>\n",
              "      <td>-3.447132e-01</td>\n",
              "      <td>9.876623e-01</td>\n",
              "    </tr>\n",
              "    <tr>\n",
              "      <th>max</th>\n",
              "      <td>2.560681e+00</td>\n",
              "      <td>1.667448e+00</td>\n",
              "      <td>2.356997e+00</td>\n",
              "      <td>2.900963e+00</td>\n",
              "      <td>9.876623e-01</td>\n",
              "    </tr>\n",
              "  </tbody>\n",
              "</table>\n",
              "</div>"
            ],
            "text/plain": [
              "        LungCap(cc)   Age( years)  Height(inches)       Smoke_1      Gender_1\n",
              "count  7.250000e+02  7.250000e+02    7.250000e+02  7.250000e+02  7.250000e+02\n",
              "mean   5.267817e-16 -2.940177e-17   -1.046213e-15 -4.900295e-18  4.900295e-17\n",
              "std    1.000690e+00  1.000690e+00    1.000690e+00  1.000690e+00  1.000690e+00\n",
              "min   -2.765290e+00 -2.330567e+00   -2.714437e+00 -3.447132e-01 -1.012492e+00\n",
              "25%   -6.439989e-01 -8.313113e-01   -6.858629e-01 -3.447132e-01 -1.012492e+00\n",
              "50%    5.144495e-02  1.681923e-01    7.832575e-02 -3.447132e-01  9.876623e-01\n",
              "75%    7.280930e-01  6.679441e-01    7.591484e-01 -3.447132e-01  9.876623e-01\n",
              "max    2.560681e+00  1.667448e+00    2.356997e+00  2.900963e+00  9.876623e-01"
            ]
          },
          "execution_count": 22,
          "metadata": {},
          "output_type": "execute_result"
        }
      ],
      "source": [
        "X2.describe()"
      ]
    },
    {
      "cell_type": "code",
      "execution_count": null,
      "id": "b8fe49a5",
      "metadata": {
        "id": "b8fe49a5",
        "outputId": "2b7f3827-1c5f-4ce9-c69f-f05e48b0f313"
      },
      "outputs": [
        {
          "data": {
            "text/html": [
              "<div>\n",
              "<style scoped>\n",
              "    .dataframe tbody tr th:only-of-type {\n",
              "        vertical-align: middle;\n",
              "    }\n",
              "\n",
              "    .dataframe tbody tr th {\n",
              "        vertical-align: top;\n",
              "    }\n",
              "\n",
              "    .dataframe thead th {\n",
              "        text-align: right;\n",
              "    }\n",
              "</style>\n",
              "<table border=\"1\" class=\"dataframe\">\n",
              "  <thead>\n",
              "    <tr style=\"text-align: right;\">\n",
              "      <th></th>\n",
              "      <th>LungCap(cc)</th>\n",
              "      <th>Age( years)</th>\n",
              "      <th>Height(inches)</th>\n",
              "      <th>Smoke_1</th>\n",
              "      <th>Gender_1</th>\n",
              "    </tr>\n",
              "  </thead>\n",
              "  <tbody>\n",
              "    <tr>\n",
              "      <th>count</th>\n",
              "      <td>725.000000</td>\n",
              "      <td>725.000000</td>\n",
              "      <td>725.000000</td>\n",
              "      <td>725.000000</td>\n",
              "      <td>725.000000</td>\n",
              "    </tr>\n",
              "    <tr>\n",
              "      <th>mean</th>\n",
              "      <td>0.115228</td>\n",
              "      <td>0.181389</td>\n",
              "      <td>0.975035</td>\n",
              "      <td>0.001513</td>\n",
              "      <td>0.007601</td>\n",
              "    </tr>\n",
              "    <tr>\n",
              "      <th>std</th>\n",
              "      <td>0.029447</td>\n",
              "      <td>0.044971</td>\n",
              "      <td>0.010183</td>\n",
              "      <td>0.004407</td>\n",
              "      <td>0.007631</td>\n",
              "    </tr>\n",
              "    <tr>\n",
              "      <th>min</th>\n",
              "      <td>0.009809</td>\n",
              "      <td>0.053289</td>\n",
              "      <td>0.954046</td>\n",
              "      <td>0.000000</td>\n",
              "      <td>0.000000</td>\n",
              "    </tr>\n",
              "    <tr>\n",
              "      <th>25%</th>\n",
              "      <td>0.099596</td>\n",
              "      <td>0.150872</td>\n",
              "      <td>0.967140</td>\n",
              "      <td>0.000000</td>\n",
              "      <td>0.000000</td>\n",
              "    </tr>\n",
              "    <tr>\n",
              "      <th>50%</th>\n",
              "      <td>0.119396</td>\n",
              "      <td>0.187672</td>\n",
              "      <td>0.974712</td>\n",
              "      <td>0.000000</td>\n",
              "      <td>0.012117</td>\n",
              "    </tr>\n",
              "    <tr>\n",
              "      <th>75%</th>\n",
              "      <td>0.136006</td>\n",
              "      <td>0.216554</td>\n",
              "      <td>0.982491</td>\n",
              "      <td>0.000000</td>\n",
              "      <td>0.014786</td>\n",
              "    </tr>\n",
              "    <tr>\n",
              "      <th>max</th>\n",
              "      <td>0.185584</td>\n",
              "      <td>0.273490</td>\n",
              "      <td>0.998266</td>\n",
              "      <td>0.016951</td>\n",
              "      <td>0.020714</td>\n",
              "    </tr>\n",
              "  </tbody>\n",
              "</table>\n",
              "</div>"
            ],
            "text/plain": [
              "       LungCap(cc)  Age( years)  Height(inches)     Smoke_1    Gender_1\n",
              "count   725.000000   725.000000      725.000000  725.000000  725.000000\n",
              "mean      0.115228     0.181389        0.975035    0.001513    0.007601\n",
              "std       0.029447     0.044971        0.010183    0.004407    0.007631\n",
              "min       0.009809     0.053289        0.954046    0.000000    0.000000\n",
              "25%       0.099596     0.150872        0.967140    0.000000    0.000000\n",
              "50%       0.119396     0.187672        0.974712    0.000000    0.012117\n",
              "75%       0.136006     0.216554        0.982491    0.000000    0.014786\n",
              "max       0.185584     0.273490        0.998266    0.016951    0.020714"
            ]
          },
          "execution_count": 23,
          "metadata": {},
          "output_type": "execute_result"
        }
      ],
      "source": [
        "X3.describe()"
      ]
    },
    {
      "cell_type": "code",
      "execution_count": null,
      "id": "d2401d61",
      "metadata": {
        "id": "d2401d61"
      },
      "outputs": [],
      "source": [
        "from sklearn.model_selection import train_test_split"
      ]
    },
    {
      "cell_type": "code",
      "execution_count": null,
      "id": "2bff3931",
      "metadata": {
        "id": "2bff3931"
      },
      "outputs": [],
      "source": [
        "X= df[['LungCap(cc)']]\n",
        "y=df[['Risk']]\n",
        "X_train, X_test,y_train, y_test = train_test_split(X,y ,\n",
        "                                       random_state=12,\n",
        "                                       test_size=0.25)"
      ]
    },
    {
      "cell_type": "code",
      "execution_count": null,
      "id": "96d1aaeb",
      "metadata": {
        "id": "96d1aaeb",
        "outputId": "0fea58d3-2b75-4eba-a594-37055f2eeeaf"
      },
      "outputs": [
        {
          "name": "stdout",
          "output_type": "stream",
          "text": [
            "X_train : \n",
            "     LungCap(cc)\n",
            "424        8.550\n",
            "317        1.025\n",
            "450        4.350\n",
            "623        7.675\n",
            "462        7.125\n",
            "\n",
            "X_test : \n",
            "     LungCap(cc)\n",
            "153        4.525\n",
            "552        9.025\n",
            "555        8.850\n",
            "394        7.775\n",
            "341        6.325\n",
            "\n",
            "y_train : \n",
            "     Risk\n",
            "424     0\n",
            "317     0\n",
            "450     0\n",
            "623     0\n",
            "462     0\n",
            "\n",
            "y_test : \n",
            "     Risk\n",
            "153     0\n",
            "552     0\n",
            "555     0\n",
            "394     0\n",
            "341     1\n"
          ]
        }
      ],
      "source": [
        "print('X_train : ')\n",
        "print(X_train.head())\n",
        "print('')\n",
        "print('X_test : ')\n",
        "print(X_test.head())\n",
        "print('')\n",
        "print('y_train : ')\n",
        "print(y_train.head())\n",
        "print('')\n",
        "print('y_test : ')\n",
        "print(y_test.head())"
      ]
    },
    {
      "cell_type": "code",
      "execution_count": null,
      "id": "12a0fc55",
      "metadata": {
        "id": "12a0fc55"
      },
      "outputs": [],
      "source": [
        "from sklearn.tree import DecisionTreeClassifier\n",
        "from sklearn import metrics\n",
        "from sklearn import preprocessing"
      ]
    },
    {
      "cell_type": "code",
      "execution_count": null,
      "id": "0cb0a1c4",
      "metadata": {
        "id": "0cb0a1c4",
        "outputId": "9cd1f589-c68d-4d3a-a7bc-876cb0885604"
      },
      "outputs": [
        {
          "name": "stdout",
          "output_type": "stream",
          "text": [
            "score : 0.7472527472527473\n"
          ]
        }
      ],
      "source": [
        "dt= DecisionTreeClassifier()\n",
        "dt.fit(X_train,y_train)\n",
        "y_pred = dt.predict(X_test)\n",
        "# print(y_pred)\n",
        "print(\"score :\",metrics.accuracy_score(y_test,y_pred))"
      ]
    },
    {
      "cell_type": "code",
      "execution_count": null,
      "id": "bf53374b",
      "metadata": {
        "id": "bf53374b",
        "outputId": "95cfeb54-3ef7-4292-e307-89c13233d6c6"
      },
      "outputs": [
        {
          "data": {
            "text/plain": [
              "array([[130,  13],\n",
              "       [ 33,   6]], dtype=int64)"
            ]
          },
          "execution_count": 29,
          "metadata": {},
          "output_type": "execute_result"
        }
      ],
      "source": [
        "from sklearn.metrics import confusion_matrix\n",
        "cm=confusion_matrix(y_test,y_pred)\n",
        "cm"
      ]
    },
    {
      "cell_type": "code",
      "execution_count": null,
      "id": "2df92b93",
      "metadata": {
        "id": "2df92b93"
      },
      "outputs": [],
      "source": [
        "y=np.random.choice(('Male','Female'),size=(10))"
      ]
    },
    {
      "cell_type": "code",
      "execution_count": null,
      "id": "e9e773b3",
      "metadata": {
        "id": "e9e773b3",
        "outputId": "2e6ab69e-49fa-484c-ab89-d931c559d97f"
      },
      "outputs": [
        {
          "data": {
            "text/plain": [
              "array(['Female', 'Female', 'Male', 'Female', 'Male', 'Male', 'Male',\n",
              "       'Male', 'Female', 'Male'], dtype='<U6')"
            ]
          },
          "execution_count": 31,
          "metadata": {},
          "output_type": "execute_result"
        }
      ],
      "source": [
        "y"
      ]
    },
    {
      "cell_type": "code",
      "execution_count": null,
      "id": "691e4bf5",
      "metadata": {
        "id": "691e4bf5"
      },
      "outputs": [],
      "source": [
        "from sklearn.preprocessing import LabelEncoder"
      ]
    },
    {
      "cell_type": "code",
      "execution_count": null,
      "id": "12e9933d",
      "metadata": {
        "id": "12e9933d"
      },
      "outputs": [],
      "source": [
        "le=LabelEncoder()\n",
        "yt=le.fit_transform(y)"
      ]
    },
    {
      "cell_type": "code",
      "execution_count": null,
      "id": "24343c2c",
      "metadata": {
        "id": "24343c2c",
        "outputId": "56867f0a-b895-4f22-da70-46104b054c99"
      },
      "outputs": [
        {
          "data": {
            "text/plain": [
              "array([0, 0, 1, 0, 1, 1, 1, 1, 0, 1], dtype=int64)"
            ]
          },
          "execution_count": 34,
          "metadata": {},
          "output_type": "execute_result"
        }
      ],
      "source": [
        "yt"
      ]
    },
    {
      "cell_type": "code",
      "execution_count": null,
      "id": "13f871f5",
      "metadata": {
        "id": "13f871f5"
      },
      "outputs": [],
      "source": [
        "from sklearn.impute import SimpleImputer"
      ]
    },
    {
      "cell_type": "code",
      "execution_count": null,
      "id": "15f2cb04",
      "metadata": {
        "id": "15f2cb04"
      },
      "outputs": [],
      "source": [
        "data=np.array([[1,np.nan,2],[2,3,np.nan],[-1,4,2]])"
      ]
    },
    {
      "cell_type": "code",
      "execution_count": null,
      "id": "3664d900",
      "metadata": {
        "id": "3664d900"
      },
      "outputs": [],
      "source": [
        "imp=SimpleImputer(strategy='mean')"
      ]
    },
    {
      "cell_type": "code",
      "execution_count": null,
      "id": "d3fea1ee",
      "metadata": {
        "id": "d3fea1ee",
        "outputId": "569cc817-3a9d-433a-b40a-daa7cffa7737"
      },
      "outputs": [
        {
          "data": {
            "text/plain": [
              "array([[ 1. ,  3.5,  2. ],\n",
              "       [ 2. ,  3. ,  2. ],\n",
              "       [-1. ,  4. ,  2. ]])"
            ]
          },
          "execution_count": 38,
          "metadata": {},
          "output_type": "execute_result"
        }
      ],
      "source": [
        "imp.fit_transform(data)"
      ]
    },
    {
      "cell_type": "code",
      "execution_count": null,
      "id": "1d2513e2",
      "metadata": {
        "id": "1d2513e2",
        "outputId": "d1d164cf-e166-4093-cd44-1c4cc3dbacda"
      },
      "outputs": [
        {
          "data": {
            "text/plain": [
              "array([[ 1.,  3.,  2.],\n",
              "       [ 2.,  3.,  2.],\n",
              "       [-1.,  4.,  2.]])"
            ]
          },
          "execution_count": 39,
          "metadata": {},
          "output_type": "execute_result"
        }
      ],
      "source": [
        "imp=SimpleImputer(strategy='most_frequent')\n",
        "imp.fit_transform(data)"
      ]
    },
    {
      "cell_type": "code",
      "execution_count": null,
      "id": "f2a55025",
      "metadata": {
        "id": "f2a55025",
        "outputId": "21236121-5584-4b9d-c26e-7345f4a47012"
      },
      "outputs": [
        {
          "data": {
            "text/plain": [
              "array([[ 1. ,  3.5,  2. ],\n",
              "       [ 2. ,  3. ,  2. ],\n",
              "       [-1. ,  4. ,  2. ]])"
            ]
          },
          "execution_count": 40,
          "metadata": {},
          "output_type": "execute_result"
        }
      ],
      "source": [
        "imp=SimpleImputer(strategy='median')\n",
        "imp.fit_transform(data)"
      ]
    },
    {
      "cell_type": "code",
      "execution_count": null,
      "id": "35392467",
      "metadata": {
        "id": "35392467"
      },
      "outputs": [],
      "source": [
        "data=[\n",
        "    {'price':850000,'rooms':4,'neighborhood':'Queen Anne'},\n",
        "    {'price':700000,'rooms':3,'neighborhood':'Fremont'},\n",
        "    {'price':650000,'rooms':3,'neighborhood':'Wallingford'},\n",
        "    {'price':600000,'rooms':2,'neighborhood':'Fremont'}\n",
        "]"
      ]
    },
    {
      "cell_type": "code",
      "execution_count": null,
      "id": "f92212ce",
      "metadata": {
        "id": "f92212ce"
      },
      "outputs": [],
      "source": [
        "from sklearn.feature_extraction import DictVectorizer"
      ]
    },
    {
      "cell_type": "code",
      "execution_count": null,
      "id": "64ada7ff",
      "metadata": {
        "id": "64ada7ff",
        "outputId": "114a314c-bce0-4487-da86-7db79cc922be"
      },
      "outputs": [
        {
          "data": {
            "text/plain": [
              "array([[     0,      1,      0, 850000,      4],\n",
              "       [     1,      0,      0, 700000,      3],\n",
              "       [     0,      0,      1, 650000,      3],\n",
              "       [     1,      0,      0, 600000,      2]])"
            ]
          },
          "execution_count": 43,
          "metadata": {},
          "output_type": "execute_result"
        }
      ],
      "source": [
        "vec=DictVectorizer(sparse=False,dtype=int)\n",
        "vec.fit_transform(data)"
      ]
    },
    {
      "cell_type": "code",
      "execution_count": null,
      "id": "e7c8b4cf",
      "metadata": {
        "id": "e7c8b4cf",
        "outputId": "56b3aede-0fd3-4d11-c894-3644b111d983"
      },
      "outputs": [
        {
          "name": "stdout",
          "output_type": "stream",
          "text": [
            "  (0, 1)\t1\n",
            "  (0, 3)\t850000\n",
            "  (0, 4)\t4\n",
            "  (1, 0)\t1\n",
            "  (1, 3)\t700000\n",
            "  (1, 4)\t3\n",
            "  (2, 2)\t1\n",
            "  (2, 3)\t650000\n",
            "  (2, 4)\t3\n",
            "  (3, 0)\t1\n",
            "  (3, 3)\t600000\n",
            "  (3, 4)\t2\n"
          ]
        }
      ],
      "source": [
        "vec=DictVectorizer(sparse=True,dtype=int)\n",
        "d=vec.fit_transform(data)\n",
        "print(d)"
      ]
    },
    {
      "cell_type": "code",
      "execution_count": null,
      "id": "ebe1ff19",
      "metadata": {
        "id": "ebe1ff19"
      },
      "outputs": [],
      "source": [
        "sample=['problem of evil evil',\n",
        "       'evil queen',\n",
        "       'horizon problem']"
      ]
    },
    {
      "cell_type": "code",
      "execution_count": null,
      "id": "37902279",
      "metadata": {
        "id": "37902279"
      },
      "outputs": [],
      "source": [
        "from sklearn.feature_extraction.text import CountVectorizer"
      ]
    },
    {
      "cell_type": "code",
      "execution_count": null,
      "id": "dd943c6e",
      "metadata": {
        "id": "dd943c6e",
        "outputId": "11c63b74-dd26-42f1-e53c-93589dc2397a"
      },
      "outputs": [
        {
          "name": "stdout",
          "output_type": "stream",
          "text": [
            "  (0, 3)\t1\n",
            "  (0, 2)\t1\n",
            "  (0, 0)\t2\n",
            "  (1, 0)\t1\n",
            "  (1, 4)\t1\n",
            "  (2, 3)\t1\n",
            "  (2, 1)\t1\n"
          ]
        }
      ],
      "source": [
        "vec=CountVectorizer()\n",
        "vec.fit(sample)\n",
        "X=vec.fit_transform(sample)\n",
        "print(X)"
      ]
    },
    {
      "cell_type": "code",
      "execution_count": null,
      "id": "5d6725a7",
      "metadata": {
        "id": "5d6725a7",
        "outputId": "34bad978-5c12-41a2-e195-a766e2e720e8"
      },
      "outputs": [
        {
          "data": {
            "text/html": [
              "<div>\n",
              "<style scoped>\n",
              "    .dataframe tbody tr th:only-of-type {\n",
              "        vertical-align: middle;\n",
              "    }\n",
              "\n",
              "    .dataframe tbody tr th {\n",
              "        vertical-align: top;\n",
              "    }\n",
              "\n",
              "    .dataframe thead th {\n",
              "        text-align: right;\n",
              "    }\n",
              "</style>\n",
              "<table border=\"1\" class=\"dataframe\">\n",
              "  <thead>\n",
              "    <tr style=\"text-align: right;\">\n",
              "      <th></th>\n",
              "      <th>evil</th>\n",
              "      <th>horizon</th>\n",
              "      <th>of</th>\n",
              "      <th>problem</th>\n",
              "      <th>queen</th>\n",
              "    </tr>\n",
              "  </thead>\n",
              "  <tbody>\n",
              "    <tr>\n",
              "      <th>0</th>\n",
              "      <td>2</td>\n",
              "      <td>0</td>\n",
              "      <td>1</td>\n",
              "      <td>1</td>\n",
              "      <td>0</td>\n",
              "    </tr>\n",
              "    <tr>\n",
              "      <th>1</th>\n",
              "      <td>1</td>\n",
              "      <td>0</td>\n",
              "      <td>0</td>\n",
              "      <td>0</td>\n",
              "      <td>1</td>\n",
              "    </tr>\n",
              "    <tr>\n",
              "      <th>2</th>\n",
              "      <td>0</td>\n",
              "      <td>1</td>\n",
              "      <td>0</td>\n",
              "      <td>1</td>\n",
              "      <td>0</td>\n",
              "    </tr>\n",
              "  </tbody>\n",
              "</table>\n",
              "</div>"
            ],
            "text/plain": [
              "   evil  horizon  of  problem  queen\n",
              "0     2        0   1        1      0\n",
              "1     1        0   0        0      1\n",
              "2     0        1   0        1      0"
            ]
          },
          "execution_count": 48,
          "metadata": {},
          "output_type": "execute_result"
        }
      ],
      "source": [
        "pd.DataFrame(X.toarray(),columns=vec.get_feature_names_out())"
      ]
    },
    {
      "cell_type": "code",
      "execution_count": null,
      "id": "b3d66232",
      "metadata": {
        "id": "b3d66232"
      },
      "outputs": [],
      "source": [
        "from sklearn.feature_extraction.text import TfidfVectorizer"
      ]
    },
    {
      "cell_type": "code",
      "execution_count": null,
      "id": "120b01a2",
      "metadata": {
        "id": "120b01a2",
        "outputId": "d9d99ee2-c3be-4d77-d52b-84c1a9b50b3c"
      },
      "outputs": [
        {
          "data": {
            "text/html": [
              "<div>\n",
              "<style scoped>\n",
              "    .dataframe tbody tr th:only-of-type {\n",
              "        vertical-align: middle;\n",
              "    }\n",
              "\n",
              "    .dataframe tbody tr th {\n",
              "        vertical-align: top;\n",
              "    }\n",
              "\n",
              "    .dataframe thead th {\n",
              "        text-align: right;\n",
              "    }\n",
              "</style>\n",
              "<table border=\"1\" class=\"dataframe\">\n",
              "  <thead>\n",
              "    <tr style=\"text-align: right;\">\n",
              "      <th></th>\n",
              "      <th>evil</th>\n",
              "      <th>horizon</th>\n",
              "      <th>of</th>\n",
              "      <th>problem</th>\n",
              "      <th>queen</th>\n",
              "    </tr>\n",
              "  </thead>\n",
              "  <tbody>\n",
              "    <tr>\n",
              "      <th>0</th>\n",
              "      <td>0.771006</td>\n",
              "      <td>0.000000</td>\n",
              "      <td>0.50689</td>\n",
              "      <td>0.385503</td>\n",
              "      <td>0.000000</td>\n",
              "    </tr>\n",
              "    <tr>\n",
              "      <th>1</th>\n",
              "      <td>0.605349</td>\n",
              "      <td>0.000000</td>\n",
              "      <td>0.00000</td>\n",
              "      <td>0.000000</td>\n",
              "      <td>0.795961</td>\n",
              "    </tr>\n",
              "    <tr>\n",
              "      <th>2</th>\n",
              "      <td>0.000000</td>\n",
              "      <td>0.795961</td>\n",
              "      <td>0.00000</td>\n",
              "      <td>0.605349</td>\n",
              "      <td>0.000000</td>\n",
              "    </tr>\n",
              "  </tbody>\n",
              "</table>\n",
              "</div>"
            ],
            "text/plain": [
              "       evil   horizon       of   problem     queen\n",
              "0  0.771006  0.000000  0.50689  0.385503  0.000000\n",
              "1  0.605349  0.000000  0.00000  0.000000  0.795961\n",
              "2  0.000000  0.795961  0.00000  0.605349  0.000000"
            ]
          },
          "execution_count": 50,
          "metadata": {},
          "output_type": "execute_result"
        }
      ],
      "source": [
        "vec=TfidfVectorizer()\n",
        "X=vec.fit_transform(sample)\n",
        "pd.DataFrame(X.toarray(),columns=vec.get_feature_names_out())"
      ]
    },
    {
      "cell_type": "code",
      "execution_count": null,
      "id": "d7bc1cc9",
      "metadata": {
        "id": "d7bc1cc9",
        "outputId": "29c86640-02ab-405e-9010-3747f0bd125e"
      },
      "outputs": [
        {
          "data": {
            "text/plain": [
              "<matplotlib.collections.PathCollection at 0x126958b3210>"
            ]
          },
          "execution_count": 51,
          "metadata": {},
          "output_type": "execute_result"
        },
        {
          "data": {
            "image/png": "[encoded data removed]",
            "text/plain": [
              "<Figure size 640x480 with 1 Axes>"
            ]
          },
          "metadata": {},
          "output_type": "display_data"
        }
      ],
      "source": [
        "x=np.array([1,2,3,4,5])\n",
        "y=np.array([4,2,1,3,7])\n",
        "plt.scatter(x,y)"
      ]
    },
    {
      "cell_type": "code",
      "execution_count": null,
      "id": "9d21b8ae",
      "metadata": {
        "id": "9d21b8ae"
      },
      "outputs": [],
      "source": [
        "from sklearn.linear_model import LinearRegression"
      ]
    },
    {
      "cell_type": "code",
      "execution_count": null,
      "id": "29a6e609",
      "metadata": {
        "id": "29a6e609",
        "outputId": "a272ece7-4aff-45f4-93b8-d98ed51010c7"
      },
      "outputs": [
        {
          "data": {
            "text/plain": [
              "[<matplotlib.lines.Line2D at 0x12695917350>]"
            ]
          },
          "execution_count": 53,
          "metadata": {},
          "output_type": "execute_result"
        },
        {
          "data": {
            "image/png": "[encoded data removed]",
            "text/plain": [
              "<Figure size 640x480 with 1 Axes>"
            ]
          },
          "metadata": {},
          "output_type": "display_data"
        }
      ],
      "source": [
        "X=x[:,np.newaxis]\n",
        "model=LinearRegression().fit(X,y)\n",
        "yfit=model.predict(X)\n",
        "plt.scatter(x,y)\n",
        "plt.plot(x,yfit)"
      ]
    },
    {
      "cell_type": "code",
      "execution_count": null,
      "id": "14874415",
      "metadata": {
        "id": "14874415"
      },
      "outputs": [],
      "source": [
        "from sklearn.preprocessing import PolynomialFeatures"
      ]
    },
    {
      "cell_type": "code",
      "execution_count": null,
      "id": "0dce9b9b",
      "metadata": {
        "id": "0dce9b9b",
        "outputId": "1b666498-5d5d-4a52-c64f-0bc169de6b06"
      },
      "outputs": [
        {
          "name": "stdout",
          "output_type": "stream",
          "text": [
            "[[  1.   1.   1.   1.]\n",
            " [  2.   4.   8.  16.]\n",
            " [  3.   9.  27.  81.]\n",
            " [  4.  16.  64. 256.]\n",
            " [  5.  25. 125. 625.]]\n"
          ]
        }
      ],
      "source": [
        "poly = PolynomialFeatures(degree=4,include_bias=False)\n",
        "x2=poly.fit_transform(X)\n",
        "print(x2)"
      ]
    },
    {
      "cell_type": "code",
      "execution_count": null,
      "id": "f9eba7f8",
      "metadata": {
        "id": "f9eba7f8",
        "outputId": "89a80c10-b908-4413-b42a-d89b493b343a"
      },
      "outputs": [
        {
          "data": {
            "image/png": "[encoded data removed]",
            "text/plain": [
              "<Figure size 640x480 with 1 Axes>"
            ]
          },
          "metadata": {},
          "output_type": "display_data"
        }
      ],
      "source": [
        "model = LinearRegression().fit(x2,y)\n",
        "yfit = model.predict(x2)\n",
        "plt.scatter(x,y);\n",
        "plt.plot(x, yfit);"
      ]
    },
    {
      "cell_type": "code",
      "execution_count": null,
      "id": "695f219c",
      "metadata": {
        "id": "695f219c"
      },
      "outputs": [],
      "source": []
    }
  ],
  "metadata": {
    "colab": {
      "provenance": []
    },
    "kernelspec": {
      "display_name": "Python 3 (ipykernel)",
      "language": "python",
      "name": "python3"
    },
    "language_info": {
      "codemirror_mode": {
        "name": "ipython",
        "version": 3
      },
      "file_extension": ".py",
      "mimetype": "text/x-python",
      "name": "python",
      "nbconvert_exporter": "python",
      "pygments_lexer": "ipython3",
      "version": "3.11.5"
    }
  },
  "nbformat": 4,
  "nbformat_minor": 5
}

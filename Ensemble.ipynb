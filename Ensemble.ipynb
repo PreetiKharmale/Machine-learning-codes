{
  "cells": [
    {
      "cell_type": "markdown",
      "metadata": {
        "id": "OTJXEw7WcktG"
      },
      "source": [
        "\n",
        "\n",
        "# Ensemble"
      ]
    },
    {
      "cell_type": "code",
      "execution_count": null,
      "metadata": {
        "id": "-o7Z_fuWGG6g"
      },
      "outputs": [],
      "source": [
        "import pandas as pd\n",
        "from sklearn import model_selection\n",
        "from sklearn.tree import DecisionTreeClassifier\n",
        "from sklearn.neighbors import KNeighborsClassifier\n",
        "from sklearn.svm import SVC\n",
        "from sklearn.metrics import accuracy_score\n",
        "#from sklearn.metrics import cohen_kappa_score\n",
        "from sklearn.ensemble import VotingClassifier #bagging\n",
        "from sklearn.model_selection import train_test_split"
      ]
    },
    {
      "cell_type": "code",
      "execution_count": null,
      "metadata": {
        "id": "aivKAfnmRN9L"
      },
      "outputs": [],
      "source": [
        "col_names=['pregnant','glucose','bp','skin','insulin','bmi','pedigree','age','label']\n",
        "#load dataset\n",
        "pima=pd.read_csv(\"pima-indians-diabetes.csv\",header=None, names=col_names)     # header=none ; for not making the 1st col as the col name\n",
        "\n"
      ]
    },
    {
      "cell_type": "code",
      "execution_count": null,
      "metadata": {
        "id": "P6yhyFXVTLfC"
      },
      "outputs": [],
      "source": [
        "feature_cols=['pregnant','insulin','bmi','age','glucose','bp','pedigree']\n",
        "X=pima[feature_cols]#feature\n",
        "Y=pima.label #target variable"
      ]
    },
    {
      "cell_type": "code",
      "execution_count": null,
      "metadata": {
        "id": "g1_HooSATQRv"
      },
      "outputs": [],
      "source": [
        "estimators=[]\n",
        "model1 = KNeighborsClassifier(n_neighbors=5)\n",
        "estimators.append(('KNN',model1))\n",
        "\n",
        "model2 = DecisionTreeClassifier()\n",
        "estimators.append(('cart',model2))\n",
        "\n",
        "model3 = SVC()\n",
        "estimators.append(('svm',model3))\n"
      ]
    },
    {
      "cell_type": "code",
      "execution_count": null,
      "metadata": {
        "colab": {
          "base_uri": "https://localhost:8080/"
        },
        "id": "pPUlthQdT3yt",
        "outputId": "ceefa2a0-df5a-45df-c5cb-b23ecd7139f8"
      },
      "outputs": [
        {
          "data": {
            "text/plain": [
              "0.8606770833333334"
            ]
          },
          "execution_count": 49,
          "metadata": {},
          "output_type": "execute_result"
        }
      ],
      "source": [
        "#create the ensemble\n",
        "ensemble = VotingClassifier(estimators)#bagging ensemble\n",
        "eclf1 = ensemble.fit(X,Y)\n",
        "y1 = eclf1.predict(X)\n",
        "accuracy_score(Y,y1)"
      ]
    },
    {
      "cell_type": "markdown",
      "metadata": {
        "id": "XeCfHImpCn0X"
      },
      "source": [
        "## AdaBoostClassifier"
      ]
    },
    {
      "cell_type": "code",
      "execution_count": null,
      "metadata": {
        "id": "jAk6cN69TXFG"
      },
      "outputs": [],
      "source": [
        "#AdaBoostClassifier\n",
        "import pandas as pd\n",
        "from sklearn import model_selection\n",
        "from sklearn.ensemble import AdaBoostClassifier"
      ]
    },
    {
      "cell_type": "code",
      "execution_count": null,
      "metadata": {
        "colab": {
          "base_uri": "https://localhost:8080/"
        },
        "id": "yRrZLVAiVLRx",
        "outputId": "21899af3-8cf4-4878-cc38-f72190d18a4b"
      },
      "outputs": [
        {
          "name": "stdout",
          "output_type": "stream",
          "text": [
            "0.7617908407382092\n"
          ]
        }
      ],
      "source": [
        "num_trees=50\n",
        "kfold = model_selection.KFold(n_splits=10)\n",
        "model = AdaBoostClassifier(n_estimators = num_trees)          # default estimator = Decision tree\n",
        "results=model_selection.cross_val_score(model,X,Y,cv=kfold)\n",
        "print(results.mean())"
      ]
    },
    {
      "cell_type": "code",
      "execution_count": null,
      "metadata": {
        "colab": {
          "base_uri": "https://localhost:8080/"
        },
        "id": "cLzL_z3nVtvV",
        "outputId": "6278abab-9490-4276-bfbb-ea92f1f154c6"
      },
      "outputs": [
        {
          "name": "stdout",
          "output_type": "stream",
          "text": [
            "0.7643198906356801\n"
          ]
        }
      ],
      "source": [
        "num_trees=25\n",
        "kfold=model_selection.KFold(n_splits=10)\n",
        "model=AdaBoostClassifier(n_estimators=num_trees)\n",
        "results=model_selection.cross_val_score(model,X,Y,cv=kfold)\n",
        "print(results.mean())"
      ]
    },
    {
      "cell_type": "code",
      "execution_count": null,
      "metadata": {
        "colab": {
          "base_uri": "https://localhost:8080/"
        },
        "id": "mtOZcfi6WMLC",
        "outputId": "9d3fb9e1-e2df-454f-e285-ea994aeacf4c"
      },
      "outputs": [
        {
          "name": "stdout",
          "output_type": "stream",
          "text": [
            "0.7513793396146337\n"
          ]
        }
      ],
      "source": [
        "num_trees=50\n",
        "kfold=model_selection.KFold(n_splits=5)\n",
        "model=AdaBoostClassifier(n_estimators=num_trees)\n",
        "results=model_selection.cross_val_score(model,X,Y,cv=kfold)\n",
        "print(results.mean())"
      ]
    },
    {
      "cell_type": "code",
      "execution_count": null,
      "metadata": {
        "id": "Zp27x-6vDlZG"
      },
      "outputs": [],
      "source": [
        "from sklearn import metrics\n",
        "svc = SVC(probability = True, kernel ='linear')"
      ]
    },
    {
      "cell_type": "code",
      "execution_count": null,
      "metadata": {
        "colab": {
          "base_uri": "https://localhost:8080/"
        },
        "id": "n-FUB0CMWOU6",
        "outputId": "5f72d960-e2cc-47df-9824-a09b8316ca75"
      },
      "outputs": [
        {
          "name": "stderr",
          "output_type": "stream",
          "text": [
            "/usr/local/lib/python3.10/dist-packages/sklearn/ensemble/_base.py:166: FutureWarning: `base_estimator` was renamed to `estimator` in version 1.2 and will be removed in 1.4.\n",
            "  warnings.warn(\n"
          ]
        }
      ],
      "source": [
        "# Create AdaBoost Classifier object\n",
        "abc = AdaBoostClassifier(n_estimators = 25, base_estimator = svc)\n",
        "# Train the AdaBoost Classifier\n",
        "model = abc.fit(X,Y)\n",
        "# predict the response for test dataset\n",
        "y_pred = model.predict(X)"
      ]
    },
    {
      "cell_type": "code",
      "execution_count": null,
      "metadata": {
        "colab": {
          "base_uri": "https://localhost:8080/"
        },
        "id": "99Wt6FSnECCV",
        "outputId": "78565ede-7e83-467c-d476-99257dd9f26e"
      },
      "outputs": [
        {
          "name": "stdout",
          "output_type": "stream",
          "text": [
            "Accuracy:  0.6510416666666666\n"
          ]
        }
      ],
      "source": [
        "print(\"Accuracy: \", metrics.accuracy_score(Y,y_pred))"
      ]
    },
    {
      "cell_type": "markdown",
      "metadata": {
        "id": "5TbgPF0iFgNy"
      },
      "source": [
        "## Random Forest Classifier"
      ]
    },
    {
      "cell_type": "code",
      "execution_count": null,
      "metadata": {
        "colab": {
          "base_uri": "https://localhost:8080/"
        },
        "id": "I9fhiAKTFXpa",
        "outputId": "9b0154a4-b5da-422f-aaec-5399bb9b3bdb"
      },
      "outputs": [
        {
          "name": "stdout",
          "output_type": "stream",
          "text": [
            "Accuracy:100.00%\n"
          ]
        }
      ],
      "source": [
        "from sklearn.ensemble import RandomForestClassifier             # by default rhe estimators r 100 . so the accuracy will also be 100%\n",
        "clf = RandomForestClassifier()\n",
        "clf.fit(X,Y)\n",
        "y1 = clf.predict(X)\n",
        "print(\"Accuracy:%.2f%%\" % (accuracy_score(Y,y1)* 100.0))\n"
      ]
    },
    {
      "cell_type": "code",
      "execution_count": null,
      "metadata": {
        "colab": {
          "base_uri": "https://localhost:8080/"
        },
        "id": "KmRQGfXkHgFh",
        "outputId": "38c5ae5e-51eb-4dff-f9d4-644331b5977b"
      },
      "outputs": [
        {
          "name": "stdout",
          "output_type": "stream",
          "text": [
            "Accuracy: 0.9973958333333334\n"
          ]
        }
      ],
      "source": [
        "#  n_estimators = 25\n",
        "clf = RandomForestClassifier(n_estimators = 25)\n",
        "clf.fit(X,Y)\n",
        "y1 = clf.predict(X)\n",
        "print(\"Accuracy:\", accuracy_score(Y,y1))\n"
      ]
    }
  ],
  "metadata": {
    "colab": {
      "provenance": []
    },
    "kernelspec": {
      "display_name": "Python 3",
      "name": "python3"
    },
    "language_info": {
      "name": "python"
    }
  },
  "nbformat": 4,
  "nbformat_minor": 0
}
